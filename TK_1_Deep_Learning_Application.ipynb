{
  "nbformat": 4,
  "nbformat_minor": 0,
  "metadata": {
    "colab": {
      "provenance": [],
      "include_colab_link": true
    },
    "kernelspec": {
      "name": "python3",
      "display_name": "Python 3"
    },
    "language_info": {
      "name": "python"
    }
  },
  "cells": [
    {
      "cell_type": "markdown",
      "metadata": {
        "id": "view-in-github",
        "colab_type": "text"
      },
      "source": [
        "<a href=\"https://colab.research.google.com/github/riadisl/TK_DeepLearning/blob/main/TK_1_Deep_Learning_Application.ipynb\" target=\"_parent\"><img src=\"https://colab.research.google.com/assets/colab-badge.svg\" alt=\"Open In Colab\"/></a>"
      ]
    },
    {
      "cell_type": "code",
      "execution_count": 17,
      "metadata": {
        "id": "At8Q5s7DtG3_",
        "outputId": "1fcf87e4-776b-43c4-9fee-581c802c5f80",
        "colab": {
          "base_uri": "https://localhost:8080/"
        }
      },
      "outputs": [
        {
          "output_type": "stream",
          "name": "stdout",
          "text": [
            "Drive already mounted at /content/drive; to attempt to forcibly remount, call drive.mount(\"/content/drive\", force_remount=True).\n",
            "['Bunga', 'Gitar', 'Kucing', 'Kursi', 'Mobil']\n"
          ]
        }
      ],
      "source": [
        "#1 Mount Google Drive dan cek dataset\n",
        "\n",
        "from google.colab import drive\n",
        "import os\n",
        "\n",
        "drive.mount('/content/drive')\n",
        "\n",
        "data_path = '/content/drive/My Drive/dataset'\n",
        "\n",
        "print(os.listdir(data_path))\n"
      ]
    },
    {
      "cell_type": "code",
      "source": [
        "#2 convert size image ke 32x32\n",
        "\n",
        "from PIL import Image\n",
        "\n",
        "output_size = (32, 32)\n",
        "\n",
        "# Resize semua gambar di dalam dataset\n",
        "for root, dirs, files in os.walk(data_path):\n",
        "    for file in files:\n",
        "        if file.endswith(\".jpg\") or file.endswith(\".png\"):\n",
        "            file_path = os.path.join(root, file)\n",
        "            with Image.open(file_path) as img:\n",
        "                img = img.resize(output_size)\n",
        "                img.save(file_path)"
      ],
      "metadata": {
        "id": "MfLA92whEOBv"
      },
      "execution_count": 18,
      "outputs": []
    },
    {
      "cell_type": "code",
      "source": [
        "#3 Membaca dataset menggunakan pytorch\n",
        "\n",
        "from torchvision import datasets, transforms\n",
        "from torch.utils.data import DataLoader\n",
        "\n",
        "# Transformasi citra\n",
        "transform = transforms.Compose([\n",
        "    transforms.ToTensor(),\n",
        "    transforms.Normalize((0.5, 0.5, 0.5), (0.5, 0.5, 0.5))  # Normalisasi\n",
        "])\n",
        "\n",
        "# Baca dataset\n",
        "dataset = datasets.ImageFolder(root=data_path, transform=transform)\n",
        "\n",
        "# Membagi dataset menjadi batch\n",
        "batch_size = 8\n",
        "dataloader = DataLoader(dataset, batch_size=batch_size, shuffle=True)\n",
        "\n",
        "# Periksa label kelas\n",
        "classes = dataset.classes\n",
        "print(f\"Classes: {classes}\")\n"
      ],
      "metadata": {
        "colab": {
          "base_uri": "https://localhost:8080/"
        },
        "id": "2XK-OldVE4xj",
        "outputId": "f974b0aa-bc07-4183-bcaa-07e837d40fef"
      },
      "execution_count": 20,
      "outputs": [
        {
          "output_type": "stream",
          "name": "stdout",
          "text": [
            "Classes: ['Bunga', 'Gitar', 'Kucing', 'Kursi', 'Mobil']\n"
          ]
        }
      ]
    },
    {
      "cell_type": "code",
      "source": [
        "from google.colab import drive\n",
        "drive.mount('/content/drive')"
      ],
      "metadata": {
        "colab": {
          "base_uri": "https://localhost:8080/"
        },
        "id": "wP6hLmPLUtLQ",
        "outputId": "8026bbe8-a6cf-4a3f-ba68-e6947b360f01"
      },
      "execution_count": 12,
      "outputs": [
        {
          "output_type": "stream",
          "name": "stdout",
          "text": [
            "Drive already mounted at /content/drive; to attempt to forcibly remount, call drive.mount(\"/content/drive\", force_remount=True).\n"
          ]
        }
      ]
    },
    {
      "cell_type": "code",
      "source": [
        "#4 Membuat MLP\n",
        "\n",
        "import torch.nn as nn\n",
        "import torch.nn.functional as F\n",
        "\n",
        "class MLP(nn.Module):\n",
        "    def __init__(self, input_size, num_classes):\n",
        "        super(MLP, self).__init__()\n",
        "        self.fc1 = nn.Linear(input_size, 512)\n",
        "        self.fc2 = nn.Linear(512, 256)\n",
        "        self.fc3 = nn.Linear(256, 128)\n",
        "        self.fc4 = nn.Linear(128, 64)\n",
        "        self.fc5 = nn.Linear(64, num_classes)\n",
        "\n",
        "    def forward(self, x):\n",
        "        x = x.view(x.size(0), -1)  # Flatten input\n",
        "        x = F.relu(self.fc1(x))\n",
        "        x = F.relu(self.fc2(x))\n",
        "        x = F.relu(self.fc3(x))\n",
        "        x = F.relu(self.fc4(x))\n",
        "        x = self.fc5(x)\n",
        "        return x"
      ],
      "metadata": {
        "id": "0-Q9QavjKFZQ"
      },
      "execution_count": 21,
      "outputs": []
    },
    {
      "cell_type": "code",
      "source": [
        "#6 Inisialisasi model dan mendapatkan ukuran input dan jumlah kelas\n",
        "input_size = 3 * 32 * 32\n",
        "num_classes = len(classes)\n",
        "\n",
        "# Membuat model\n",
        "model = MLP(input_size, num_classes)\n",
        "print(model)"
      ],
      "metadata": {
        "colab": {
          "base_uri": "https://localhost:8080/"
        },
        "id": "i72U1is5FTEd",
        "outputId": "b4bd48df-162f-456d-fb1c-c4c53a32702a"
      },
      "execution_count": 22,
      "outputs": [
        {
          "output_type": "stream",
          "name": "stdout",
          "text": [
            "MLP(\n",
            "  (fc1): Linear(in_features=3072, out_features=512, bias=True)\n",
            "  (fc2): Linear(in_features=512, out_features=256, bias=True)\n",
            "  (fc3): Linear(in_features=256, out_features=128, bias=True)\n",
            "  (fc4): Linear(in_features=128, out_features=64, bias=True)\n",
            "  (fc5): Linear(in_features=64, out_features=5, bias=True)\n",
            ")\n"
          ]
        }
      ]
    },
    {
      "cell_type": "code",
      "source": [
        "#5 Sanity check menggunakan next(iter(dataloader))\n",
        "\n",
        "images, labels = next(iter(dataloader))\n",
        "\n",
        "# Cek output model\n",
        "output = model(images)\n",
        "print(f\"Output size: {output.size()}\")  # Harusnya [batch_size, num_classes]\n"
      ],
      "metadata": {
        "colab": {
          "base_uri": "https://localhost:8080/"
        },
        "id": "v0KtJUUBFiAd",
        "outputId": "a7cb9736-6deb-4e0d-e1d2-e1493bf97841"
      },
      "execution_count": 44,
      "outputs": [
        {
          "output_type": "stream",
          "name": "stdout",
          "text": [
            "Output size: torch.Size([8, 5])\n"
          ]
        }
      ]
    },
    {
      "cell_type": "code",
      "source": [
        "#7 Pelatihan\n",
        "\n",
        "import torch\n",
        "from torch import nn\n",
        "from torch.utils.data import DataLoader\n",
        "from torch.utils.tensorboard import SummaryWriter\n",
        "import torchvision\n",
        "from torchvision import datasets\n",
        "from torchvision.transforms import ToTensor\n",
        "\n",
        "import os\n",
        "import os.path as osp\n",
        "import numpy as np\n",
        "import matplotlib.pyplot as plt"
      ],
      "metadata": {
        "id": "04N_aqYnG6Fn"
      },
      "execution_count": 24,
      "outputs": []
    },
    {
      "cell_type": "code",
      "source": [
        "from torchvision import datasets, transforms\n",
        "from torch.utils.data import DataLoader\n",
        "\n",
        "# Transformasi dataset\n",
        "transform = transforms.Compose([\n",
        "    transforms.ToTensor(),  # Ubah gambar menjadi tensor\n",
        "    transforms.Normalize((0.5,), (0.5,))  # Normalisasi (opsional)\n",
        "])\n",
        "\n",
        "# Dataset\n",
        "data_path = \"/content/drive/MyDrive/dataset\"  # Path ke folder dataset\n",
        "dataset = datasets.ImageFolder(root=data_path, transform=transform)\n",
        "\n",
        "# Membagi dataset menjadi DataLoader\n",
        "batch_size = 8\n",
        "dataloader = DataLoader(dataset, batch_size=batch_size, shuffle=True)\n",
        "\n",
        "# Periksa label kelas\n",
        "classes = dataset.classes\n",
        "print(f\"Classes: {classes}\")"
      ],
      "metadata": {
        "colab": {
          "base_uri": "https://localhost:8080/"
        },
        "id": "rsfY37lhHS7C",
        "outputId": "0dc8325c-4bd3-4b38-f3ac-7e1523381efa"
      },
      "execution_count": 25,
      "outputs": [
        {
          "output_type": "stream",
          "name": "stdout",
          "text": [
            "Classes: ['Bunga', 'Gitar', 'Kucing', 'Kursi', 'Mobil']\n"
          ]
        }
      ]
    },
    {
      "cell_type": "code",
      "source": [
        "from torch.utils.data import random_split\n",
        "\n",
        "# Tentukan proporsi data train dan test\n",
        "train_size = int(0.8 * len(dataset))\n",
        "test_size = len(dataset) - train_size\n",
        "\n",
        "# Split dataset\n",
        "training_data, test_data = random_split(dataset, [train_size, test_size])"
      ],
      "metadata": {
        "id": "gDEN6Pk7aVqg"
      },
      "execution_count": 31,
      "outputs": []
    },
    {
      "cell_type": "code",
      "source": [
        "# set batch in dataloader\n",
        "train_dataloader = DataLoader(training_data, shuffle=True, batch_size=4)\n",
        "test_dataloader = DataLoader(test_data, shuffle=False, batch_size=4)"
      ],
      "metadata": {
        "id": "NgpcDgMOHUcA"
      },
      "execution_count": 32,
      "outputs": []
    },
    {
      "cell_type": "code",
      "source": [
        "# class labels\n",
        "classes = ('Bunga', 'Gitar', 'Kucing', 'Kursi', 'Mobil')"
      ],
      "metadata": {
        "id": "3WezfraGJiea"
      },
      "execution_count": 34,
      "outputs": []
    },
    {
      "cell_type": "code",
      "source": [
        "# image display function\n",
        "def matplotlib_imshow(img, one_channel=False):\n",
        "  if one_channel:\n",
        "    img = img.mean(dim=0)\n",
        "  img = img / 2 + 0.5 # unnormalize\n",
        "  npimg = img.numpy() # convert back to numpy type\n",
        "  if one_channel:\n",
        "    plt.imshow(npimg, cmap='Greys')\n",
        "  else:\n",
        "    plt.imshow(np.transpose(npimg, (1, 2, 0)))"
      ],
      "metadata": {
        "id": "y894RRoQHYhp"
      },
      "execution_count": 43,
      "outputs": []
    },
    {
      "cell_type": "code",
      "source": [
        "# extract a batch of 4 images\n",
        "images, labels = next(iter(train_dataloader))\n",
        "# create a grid from the images and display them\n",
        "img_grid = torchvision.utils.make_grid(images)\n",
        "matplotlib_imshow(img_grid, one_channel=True)"
      ],
      "metadata": {
        "colab": {
          "base_uri": "https://localhost:8080/",
          "height": 193
        },
        "id": "Zg5HyTWEJr6H",
        "outputId": "58ca86c7-71ae-41e6-f259-00185799846e"
      },
      "execution_count": 36,
      "outputs": [
        {
          "output_type": "display_data",
          "data": {
            "text/plain": [
              "<Figure size 640x480 with 1 Axes>"
            ],
            "image/png": "[encoded data removed]"
          },
          "metadata": {}
        }
      ]
    },
    {
      "cell_type": "code",
      "source": [
        "#8 representation, pca dan tsne\n",
        "import numpy as np\n",
        "from sklearn import decomposition\n",
        "from sklearn import manifold\n",
        "from tqdm.notebook import tqdm\n",
        "\n",
        "import torch\n",
        "import torch.nn.functional as F\n",
        "\n",
        "\n",
        "\n",
        "def get_representations(model, dataloader, device):\n",
        "    model.eval()\n",
        "\n",
        "    outputs = []\n",
        "    intermediates = []\n",
        "    labels = []\n",
        "    with torch.no_grad():\n",
        "        for (x,y) in tqdm(dataloader):\n",
        "            x = x.to(device)\n",
        "            y_pred, h = model(x)\n",
        "            outputs.append(y_pred.cpu())\n",
        "            intermediates.append(h.cpu())\n",
        "            labels.append(y)\n",
        "\n",
        "    outputs = torch.cat(outputs, dim=0)\n",
        "    intermediates = torch.cat(intermediates, dim=0)\n",
        "    labels = torch.cat(labels, dim=0)\n",
        "\n",
        "    return outputs, intermediates, labels\n",
        "\n",
        "\n",
        "def get_pca(data, n_components=2):\n",
        "    pca = decomposition.PCA()\n",
        "    pca.n_components = n_components\n",
        "    pca_data = pca.fit_transform(data)\n",
        "    return pca_data\n",
        "\n",
        "\n",
        "def get_tsne(data, n_components=2, n_images=None):\n",
        "    if n_images is not None:\n",
        "        data = data[:n_images]\n",
        "    tsne = manifold.TSNE(n_components=n_components, random_state=0)\n",
        "    tsne_data = tsne.fit_transform(data)\n",
        "    return tsne_data\n",
        "\n",
        "\n"
      ],
      "metadata": {
        "id": "Im1nBIe6I9Rd"
      },
      "execution_count": 40,
      "outputs": []
    },
    {
      "cell_type": "code",
      "source": [
        "#9 plot confusion matrix, representations dan filtered images\n",
        "import numpy as np\n",
        "import matplotlib.pyplot as plt\n",
        "\n",
        "from sklearn.metrics import confusion_matrix\n",
        "from sklearn.metrics import ConfusionMatrixDisplay\n",
        "\n",
        "import torch\n",
        "import torch.nn.functional as F\n",
        "\n",
        "\n",
        "\n",
        "def plot_confusion_matrix(labels, pred_labels, num_classes):\n",
        "    fig = plt.figure(figsize=(10,10))\n",
        "    ax = fig.add_subplot(1, 1, 1)\n",
        "    cm = confusion_matrix(labels, pred_labels)\n",
        "    cm = ConfusionMatrixDisplay(cm, display_labels=range(num_classes))\n",
        "    cm.plot(values_format='d', cmap='Blues', ax=ax)\n",
        "\n",
        "\n",
        "\n",
        "def plot_most_incorrect(incorrect, n_images):\n",
        "    rows = int(np.sqrt(n_images))\n",
        "    cols = int(np.sqrt(n_images))\n",
        "\n",
        "    fig = plt.figure(figsize=(20,10))\n",
        "    for i in range(rows*cols):\n",
        "        ax = fig.add_subplot(rows, cols, i+1)\n",
        "        image, true_label, probs = incorrect[i]\n",
        "        true_prob = probs[true_label]\n",
        "        incorrect_prob, incorrect_label = torch.max(probs, dim=0)\n",
        "        ax.imshow(image.view(28, 28).cpu().numpy(), cmap='bone')\n",
        "        ax.set_title(f'true label: {true_label} ({true_prob:.3f})\\n'\n",
        "                     f'pred label: {incorrect_label} ({incorrect_prob:.3f})')\n",
        "        ax.axis('off')\n",
        "\n",
        "    fig.subplots_adjust(hspace=0.5)\n",
        "\n",
        "\n",
        "def plot_representations(data, labels, n_images=None):\n",
        "    if n_images is not None:\n",
        "        data = data[:n_images]\n",
        "        labels = labels[:n_images]\n",
        "\n",
        "    fig = plt.figure(figsize=(10,10))\n",
        "    ax = fig.add_subplot(111)\n",
        "    scatter = ax.scatter(data[:,0], data[:,1], c=labels, cmap='tab10')\n",
        "    handles, labels = scatter.legend_elements()\n",
        "    ax.legend(handles=handles, labels=labels)\n",
        "\n",
        "\n",
        "def plot_filtered_images(images, filters):\n",
        "    images = torch.cat([i.unsqueeze(0) for i in images], dim=0).cpu()\n",
        "    filters = filters.cpu()\n",
        "\n",
        "    n_images = images.shape[0]\n",
        "    n_filters = filters.shape[0]\n",
        "\n",
        "    filtered_images = F.conv2d(images, filters)\n",
        "\n",
        "    fig = plt.figure(figsize=(20,10))\n",
        "\n",
        "    for i in range(n_images):\n",
        "        ax = fig.add_subplot(n_images, n_filters+1, i+1+(i*n_filters))\n",
        "        ax.imshow(images[i].squeeze(0), cmap='bone')\n",
        "        ax.set_title('Original')\n",
        "        ax.axis('off')\n",
        "\n",
        "        for j in range(n_filters):\n",
        "            image = filtered_images[i][j]\n",
        "            ax = fig.add_subplot(n_images, n_filters+1, i+1+(i*n_filters)+j+1)\n",
        "            ax.imshow(image.numpy(), cmap='bone')\n",
        "            ax.set_title(f'Filter {j+1}')\n",
        "            ax.axis('off')\n"
      ],
      "metadata": {
        "id": "FBf3j8VmJD13"
      },
      "execution_count": 42,
      "outputs": []
    }
  ]
}